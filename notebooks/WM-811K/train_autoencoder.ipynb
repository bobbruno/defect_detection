{
 "cells": [
  {
   "cell_type": "markdown",
   "metadata": {},
   "source": [
    "# Running on Notebook"
   ]
  },
  {
   "cell_type": "code",
   "execution_count": 1,
   "metadata": {
    "Collapsed": "false"
   },
   "outputs": [],
   "source": [
    "import sagemaker\n",
    "import numpy as np\n",
    "import matplotlib.pyplot as plt\n",
    "from tensorflow.keras import layers, Input, models\n",
    "from pathlib import Path\n",
    "from sagemaker.tensorflow import TensorFlow"
   ]
  },
  {
   "cell_type": "code",
   "execution_count": 5,
   "metadata": {
    "Collapsed": "false"
   },
   "outputs": [
    {
     "name": "stdout",
     "output_type": "stream",
     "text": [
      "Train on 22894 samples\n",
      "Epoch 1/15\n",
      "22894/22894 - 31s - loss: 0.1225\n",
      "Epoch 2/15\n",
      "22894/22894 - 0s - loss: 0.0734\n",
      "Epoch 3/15\n",
      "22894/22894 - 0s - loss: 0.0625\n",
      "Epoch 4/15\n",
      "22894/22894 - 0s - loss: 0.0512\n",
      "Epoch 5/15\n",
      "22894/22894 - 0s - loss: 0.0435\n",
      "Epoch 6/15\n",
      "22894/22894 - 0s - loss: 0.0367\n",
      "Epoch 7/15\n",
      "22894/22894 - 0s - loss: 0.0308\n",
      "Epoch 8/15\n",
      "22894/22894 - 0s - loss: 0.0260\n",
      "Epoch 9/15\n",
      "22894/22894 - 0s - loss: 0.0223\n",
      "Epoch 10/15\n",
      "22894/22894 - 0s - loss: 0.0193\n",
      "Epoch 11/15\n",
      "22894/22894 - 0s - loss: 0.0170\n",
      "Epoch 12/15\n",
      "22894/22894 - 0s - loss: 0.0152\n",
      "Epoch 13/15\n",
      "22894/22894 - 0s - loss: 0.0138\n",
      "Epoch 14/15\n",
      "22894/22894 - 0s - loss: 0.0126\n",
      "Epoch 15/15\n",
      "22894/22894 - 0s - loss: 0.0116\n"
     ]
    }
   ],
   "source": [
    "def create_autoencoder(data, epochs, batch_size):\n",
    "    input_shape = (26, 26, 3)\n",
    "    input_tensor = Input(input_shape)\n",
    "    encode = layers.Conv2D(64, (3,3), padding='same', activation='relu')(input_tensor)\n",
    "\n",
    "    latent_vector = layers.MaxPool2D()(encode)\n",
    "\n",
    "    # Decoder\n",
    "    decode_layer_1 = layers.Conv2DTranspose(64, (3,3), padding='same', activation='relu')\n",
    "    decode_layer_2 = layers.UpSampling2D()\n",
    "    output_tensor = layers.Conv2DTranspose(3, (3,3), padding='same', activation='sigmoid')\n",
    "\n",
    "    # connect decoder layers\n",
    "    decode = decode_layer_1(latent_vector)\n",
    "    decode = decode_layer_2(decode)\n",
    "\n",
    "    ae = models.Model(input_tensor, output_tensor(decode))\n",
    "    ae.compile(\n",
    "        optimizer = 'Adam',\n",
    "        loss = 'mse',\n",
    "    )\n",
    "    ae.fit(data, data,\n",
    "        batch_size=batch_size,\n",
    "        epochs=epochs,\n",
    "        verbose=2)\n",
    "    \n",
    "    decoder_input = Input((13, 13, 64))\n",
    "    decoder = decode_layer_1(decoder_input)\n",
    "    decoder = decode_layer_2(decoder)\n",
    "    \n",
    "    return ae, models.Model(input_tensor, latent_vector), models.Model(decoder_input, output_tensor(decoder))\n",
    "\n",
    "\n",
    "def load_data(bucket: str, path: str, file_name: str=\"data.npz\", temp_folder: str=\"/tmp\"):\n",
    "    file_path = Path(path) / file_name\n",
    "    temp_file = Path(temp_folder) / file_name\n",
    "    sagemaker.utils.download_file(bucket, str(file_path), str(temp_file), sagemaker.session.Session())\n",
    "    with np.load(str(temp_file), allow_pickle=True) as data:\n",
    "        x = data['arr_0']\n",
    "        y = data['arr_1']\n",
    "    return (x, y)\n",
    "\n",
    "if __name__ == \"__main__\":\n",
    "    x, y = load_data(\n",
    "        \"sagemaker-us-east-1-160951647621\", \n",
    "        \"wafer-data-processing-2020-09-30-22-55-17-588/output/train_data\",\n",
    "    )\n",
    "    ae, encoder, decoder = create_autoencoder(x, epochs=15, batch_size=1024)"
   ]
  },
  {
   "cell_type": "code",
   "execution_count": 7,
   "metadata": {},
   "outputs": [],
   "source": [
    "encoded_x = encoder.predict(x)\n",
    "noised_encoded_x = encoded_x + np.random.normal(loc=0, scale=0.1, size = (len(encoded_x), 13, 13, 64))"
   ]
  },
  {
   "cell_type": "code",
   "execution_count": 9,
   "metadata": {},
   "outputs": [
    {
     "data": {
      "image/png": "[encoded data removed]",
      "text/plain": [
       "<Figure size 1512x504 with 3 Axes>"
      ]
     },
     "metadata": {
      "needs_background": "light"
     },
     "output_type": "display_data"
    }
   ],
   "source": [
    "fig, ax = plt.subplots(nrows=1, ncols=3, figsize=(21, 7))\n",
    "\n",
    "ax[0].imshow(np.argmax(x[3], axis=2));\n",
    "ax[0].set_title(\"Original map\")\n",
    "noised_gen_x = np.argmax(decoder.predict(noised_encoded_x), axis=3)\n",
    "ax[1].imshow(noised_gen_x[3])\n",
    "ax[1].set_title(\"Map with Noise\")\n",
    "gen_x = np.argmax(ae.predict(x), axis=3)\n",
    "ax[2].imshow(gen_x[3])\n",
    "ax[2].set_title(\"Reconstructed map\")\n",
    "fig.show()"
   ]
  },
  {
   "cell_type": "markdown",
   "metadata": {},
   "source": [
    "# Script"
   ]
  },
  {
   "cell_type": "code",
   "execution_count": 2,
   "metadata": {},
   "outputs": [
    {
     "name": "stdout",
     "output_type": "stream",
     "text": [
      "Overwriting src/train_ae.py\n"
     ]
    }
   ],
   "source": [
    "%%writefile src/train_ae.py\n",
    "import os\n",
    "import sagemaker\n",
    "import numpy as np\n",
    "import argparse\n",
    "from tensorflow.keras import layers, Input, models\n",
    "from pathlib import Path\n",
    "\n",
    "\n",
    "def parse_arguments():\n",
    "    parser = argparse.ArgumentParser(formatter_class=argparse.ArgumentDefaultsHelpFormatter)\n",
    "    parser.add_argument(\"--num-epochs\", type=int, default=15)\n",
    "    parser.add_argument(\"--batch-size\", type=int, default=1024)\n",
    "    parser.add_argument(\"--max-rows\", type=int, default=None)\n",
    "    parser.add_argument(\"--model_dir\", type=str, default=None)\n",
    "    parser.add_argument('--model-save-dir', type=str, default=os.environ['SM_MODEL_DIR'])\n",
    "    parser.add_argument('--train', type=str, default=os.environ['SM_CHANNEL_TRAIN'])\n",
    "#    parser.add_argument('--test', type=str, default=os.environ['SM_CHANNEL_TEST'])\n",
    "    return parser.parse_args()\n",
    "\n",
    "    \n",
    "def create_autoencoder(data, epochs, batch_size):\n",
    "    input_shape = (26, 26, 3)\n",
    "    input_tensor = Input(input_shape)\n",
    "    encode = layers.Conv2D(64, (3,3), padding='same', activation='relu')(input_tensor)\n",
    "\n",
    "    latent_vector = layers.MaxPool2D()(encode)\n",
    "\n",
    "    # Decoder\n",
    "    decode_layer_1 = layers.Conv2DTranspose(64, (3,3), padding='same', activation='relu')\n",
    "    decode_layer_2 = layers.UpSampling2D()\n",
    "    output_tensor = layers.Conv2DTranspose(3, (3,3), padding='same', activation='sigmoid')\n",
    "\n",
    "    # connect decoder layers\n",
    "    decode = decode_layer_1(latent_vector)\n",
    "    decode = decode_layer_2(decode)\n",
    "\n",
    "    ae = models.Model(input_tensor, output_tensor(decode))\n",
    "    ae.compile(\n",
    "        optimizer = 'Adam',\n",
    "        loss = 'mse',\n",
    "    )\n",
    "    ae.fit(data, data,\n",
    "        batch_size=batch_size,\n",
    "        epochs=epochs,\n",
    "        verbose=2)\n",
    "    \n",
    "    decoder_input = Input((13, 13, 64))\n",
    "    decoder = decode_layer_1(decoder_input)\n",
    "    decoder = decode_layer_2(decoder)\n",
    "    \n",
    "    return ae, models.Model(input_tensor, latent_vector), models.Model(decoder_input, output_tensor(decoder))\n",
    "\n",
    "\n",
    "def load_data(path: str, file_name: str=\"data.npz\", limit: int=None):\n",
    "    file_path = Path(path) / file_name\n",
    "    with np.load(str(file_path), allow_pickle=True) as data:\n",
    "        x = data['x']\n",
    "        y = data['y']\n",
    "    if limit:\n",
    "        return (x[:limit], y[:limit])\n",
    "    else:\n",
    "        return (x, y)\n",
    "\n",
    "if __name__ == \"__main__\":\n",
    "    args = parse_arguments()\n",
    "    x, y = load_data(\n",
    "        args.train, \n",
    "        \"data.npz\",\n",
    "        limit=args.max_rows\n",
    "    )\n",
    "    ae, encoder, decoder = create_autoencoder(x, epochs=15, batch_size=1024)\n",
    "    ae.save(str(Path(args.model_save_dir) / \"ae.h5\" ))\n",
    "    encoder.save(str(Path(args.model_save_dir) / \"encoder.h5\" ))\n",
    "    decoder.save(str(Path(args.model_save_dir) / \"decoder.h5\" ))"
   ]
  },
  {
   "cell_type": "markdown",
   "metadata": {},
   "source": [
    "# Run on Container"
   ]
  },
  {
   "cell_type": "markdown",
   "metadata": {},
   "source": [
    "## Data Parameters"
   ]
  },
  {
   "cell_type": "code",
   "execution_count": 3,
   "metadata": {},
   "outputs": [],
   "source": [
    "bucket = \"sagemaker-us-east-1-160951647621\"\n",
    "data_path = \"wafer-data-processing-2020-09-30-22-55-17-588/output/autoencoder/train\"\n",
    "\n",
    "inputs = {\n",
    "    \"train\": f\"s3://{bucket}/{data_path}\"\n",
    "}"
   ]
  },
  {
   "cell_type": "markdown",
   "metadata": {},
   "source": [
    "## Instance and Hyperparameters"
   ]
  },
  {
   "cell_type": "code",
   "execution_count": 10,
   "metadata": {},
   "outputs": [],
   "source": [
    "train_instance_type = \"ml.p3.2xlarge\"\n",
    "hyperparameters = {\n",
    "    #\"max-rows\": 1024,\n",
    "    \"num-epochs\": 15,\n",
    "    \"batch-size\": 1024,\n",
    "}"
   ]
  },
  {
   "cell_type": "markdown",
   "metadata": {},
   "source": [
    "## Estimator Creation"
   ]
  },
  {
   "cell_type": "code",
   "execution_count": 8,
   "metadata": {},
   "outputs": [],
   "source": [
    "estimator = TensorFlow(entry_point='src/train_ae.py',\n",
    "                       train_instance_type=train_instance_type,\n",
    "                       train_instance_count=1,\n",
    "                       hyperparameters=hyperparameters,\n",
    "                       role=sagemaker.get_execution_role(), # Passes to the container the AWS role that you are using on this notebook\n",
    "                       framework_version='2.1.0',\n",
    "                       py_version='py3',\n",
    "                       script_mode=True)"
   ]
  },
  {
   "cell_type": "markdown",
   "metadata": {},
   "source": [
    "## Model Training"
   ]
  },
  {
   "cell_type": "code",
   "execution_count": 14,
   "metadata": {},
   "outputs": [
    {
     "data": {
      "text/plain": [
       "'2.1.0'"
      ]
     },
     "execution_count": 14,
     "metadata": {},
     "output_type": "execute_result"
    }
   ],
   "source": [
    "\n",
    "import tensorflow as tf\n",
    "tf.__version__"
   ]
  },
  {
   "cell_type": "code",
   "execution_count": 9,
   "metadata": {},
   "outputs": [
    {
     "name": "stderr",
     "output_type": "stream",
     "text": [
      "'create_image_uri' will be deprecated in favor of 'ImageURIProvider' class in SageMaker Python SDK v2.\n",
      "'s3_input' class will be renamed to 'TrainingInput' in SageMaker Python SDK v2.\n",
      "'create_image_uri' will be deprecated in favor of 'ImageURIProvider' class in SageMaker Python SDK v2.\n"
     ]
    },
    {
     "name": "stdout",
     "output_type": "stream",
     "text": [
      "Creating tmpcb7bu3_4_algo-1-l74xa_1 ... \n",
      "\u001b[1BAttaching to tmpcb7bu3_4_algo-1-l74xa_12mdone\u001b[0m\n",
      "\u001b[36malgo-1-l74xa_1  |\u001b[0m 2020-10-01 16:22:16,901 sagemaker-containers INFO     Imported framework sagemaker_tensorflow_container.training\n",
      "\u001b[36malgo-1-l74xa_1  |\u001b[0m 2020-10-01 16:22:18,179 sagemaker-containers INFO     Invoking user script\n",
      "\u001b[36malgo-1-l74xa_1  |\u001b[0m \n",
      "\u001b[36malgo-1-l74xa_1  |\u001b[0m Training Env:\n",
      "\u001b[36malgo-1-l74xa_1  |\u001b[0m \n",
      "\u001b[36malgo-1-l74xa_1  |\u001b[0m {\n",
      "\u001b[36malgo-1-l74xa_1  |\u001b[0m     \"additional_framework_parameters\": {},\n",
      "\u001b[36malgo-1-l74xa_1  |\u001b[0m     \"channel_input_dirs\": {\n",
      "\u001b[36malgo-1-l74xa_1  |\u001b[0m         \"train\": \"/opt/ml/input/data/train\"\n",
      "\u001b[36malgo-1-l74xa_1  |\u001b[0m     },\n",
      "\u001b[36malgo-1-l74xa_1  |\u001b[0m     \"current_host\": \"algo-1-l74xa\",\n",
      "\u001b[36malgo-1-l74xa_1  |\u001b[0m     \"framework_module\": \"sagemaker_tensorflow_container.training:main\",\n",
      "\u001b[36malgo-1-l74xa_1  |\u001b[0m     \"hosts\": [\n",
      "\u001b[36malgo-1-l74xa_1  |\u001b[0m         \"algo-1-l74xa\"\n",
      "\u001b[36malgo-1-l74xa_1  |\u001b[0m     ],\n",
      "\u001b[36malgo-1-l74xa_1  |\u001b[0m     \"hyperparameters\": {\n",
      "\u001b[36malgo-1-l74xa_1  |\u001b[0m         \"num-epochs\": 15,\n",
      "\u001b[36malgo-1-l74xa_1  |\u001b[0m         \"batch-size\": 1024,\n",
      "\u001b[36malgo-1-l74xa_1  |\u001b[0m         \"model_dir\": \"s3://sagemaker-us-east-1-160951647621/tensorflow-training-2020-10-01-16-22-10-257/model\"\n",
      "\u001b[36malgo-1-l74xa_1  |\u001b[0m     },\n",
      "\u001b[36malgo-1-l74xa_1  |\u001b[0m     \"input_config_dir\": \"/opt/ml/input/config\",\n",
      "\u001b[36malgo-1-l74xa_1  |\u001b[0m     \"input_data_config\": {\n",
      "\u001b[36malgo-1-l74xa_1  |\u001b[0m         \"train\": {\n",
      "\u001b[36malgo-1-l74xa_1  |\u001b[0m             \"TrainingInputMode\": \"File\"\n",
      "\u001b[36malgo-1-l74xa_1  |\u001b[0m         }\n",
      "\u001b[36malgo-1-l74xa_1  |\u001b[0m     },\n",
      "\u001b[36malgo-1-l74xa_1  |\u001b[0m     \"input_dir\": \"/opt/ml/input\",\n",
      "\u001b[36malgo-1-l74xa_1  |\u001b[0m     \"is_master\": true,\n",
      "\u001b[36malgo-1-l74xa_1  |\u001b[0m     \"job_name\": \"tensorflow-training-2020-10-01-16-22-10-257\",\n",
      "\u001b[36malgo-1-l74xa_1  |\u001b[0m     \"log_level\": 20,\n",
      "\u001b[36malgo-1-l74xa_1  |\u001b[0m     \"master_hostname\": \"algo-1-l74xa\",\n",
      "\u001b[36malgo-1-l74xa_1  |\u001b[0m     \"model_dir\": \"/opt/ml/model\",\n",
      "\u001b[36malgo-1-l74xa_1  |\u001b[0m     \"module_dir\": \"s3://sagemaker-us-east-1-160951647621/tensorflow-training-2020-10-01-16-22-10-257/source/sourcedir.tar.gz\",\n",
      "\u001b[36malgo-1-l74xa_1  |\u001b[0m     \"module_name\": \"train_ae\",\n",
      "\u001b[36malgo-1-l74xa_1  |\u001b[0m     \"network_interface_name\": \"eth0\",\n",
      "\u001b[36malgo-1-l74xa_1  |\u001b[0m     \"num_cpus\": 8,\n",
      "\u001b[36malgo-1-l74xa_1  |\u001b[0m     \"num_gpus\": 1,\n",
      "\u001b[36malgo-1-l74xa_1  |\u001b[0m     \"output_data_dir\": \"/opt/ml/output/data\",\n",
      "\u001b[36malgo-1-l74xa_1  |\u001b[0m     \"output_dir\": \"/opt/ml/output\",\n",
      "\u001b[36malgo-1-l74xa_1  |\u001b[0m     \"output_intermediate_dir\": \"/opt/ml/output/intermediate\",\n",
      "\u001b[36malgo-1-l74xa_1  |\u001b[0m     \"resource_config\": {\n",
      "\u001b[36malgo-1-l74xa_1  |\u001b[0m         \"current_host\": \"algo-1-l74xa\",\n",
      "\u001b[36malgo-1-l74xa_1  |\u001b[0m         \"hosts\": [\n",
      "\u001b[36malgo-1-l74xa_1  |\u001b[0m             \"algo-1-l74xa\"\n",
      "\u001b[36malgo-1-l74xa_1  |\u001b[0m         ]\n",
      "\u001b[36malgo-1-l74xa_1  |\u001b[0m     },\n",
      "\u001b[36malgo-1-l74xa_1  |\u001b[0m     \"user_entry_point\": \"train_ae.py\"\n",
      "\u001b[36malgo-1-l74xa_1  |\u001b[0m }\n",
      "\u001b[36malgo-1-l74xa_1  |\u001b[0m \n",
      "\u001b[36malgo-1-l74xa_1  |\u001b[0m Environment variables:\n",
      "\u001b[36malgo-1-l74xa_1  |\u001b[0m \n",
      "\u001b[36malgo-1-l74xa_1  |\u001b[0m SM_HOSTS=[\"algo-1-l74xa\"]\n",
      "\u001b[36malgo-1-l74xa_1  |\u001b[0m SM_NETWORK_INTERFACE_NAME=eth0\n",
      "\u001b[36malgo-1-l74xa_1  |\u001b[0m SM_HPS={\"batch-size\":1024,\"model_dir\":\"s3://sagemaker-us-east-1-160951647621/tensorflow-training-2020-10-01-16-22-10-257/model\",\"num-epochs\":15}\n",
      "\u001b[36malgo-1-l74xa_1  |\u001b[0m SM_USER_ENTRY_POINT=train_ae.py\n",
      "\u001b[36malgo-1-l74xa_1  |\u001b[0m SM_FRAMEWORK_PARAMS={}\n",
      "\u001b[36malgo-1-l74xa_1  |\u001b[0m SM_RESOURCE_CONFIG={\"current_host\":\"algo-1-l74xa\",\"hosts\":[\"algo-1-l74xa\"]}\n",
      "\u001b[36malgo-1-l74xa_1  |\u001b[0m SM_INPUT_DATA_CONFIG={\"train\":{\"TrainingInputMode\":\"File\"}}\n",
      "\u001b[36malgo-1-l74xa_1  |\u001b[0m SM_OUTPUT_DATA_DIR=/opt/ml/output/data\n",
      "\u001b[36malgo-1-l74xa_1  |\u001b[0m SM_CHANNELS=[\"train\"]\n",
      "\u001b[36malgo-1-l74xa_1  |\u001b[0m SM_CURRENT_HOST=algo-1-l74xa\n",
      "\u001b[36malgo-1-l74xa_1  |\u001b[0m SM_MODULE_NAME=train_ae\n",
      "\u001b[36malgo-1-l74xa_1  |\u001b[0m SM_LOG_LEVEL=20\n",
      "\u001b[36malgo-1-l74xa_1  |\u001b[0m SM_FRAMEWORK_MODULE=sagemaker_tensorflow_container.training:main\n",
      "\u001b[36malgo-1-l74xa_1  |\u001b[0m SM_INPUT_DIR=/opt/ml/input\n",
      "\u001b[36malgo-1-l74xa_1  |\u001b[0m SM_INPUT_CONFIG_DIR=/opt/ml/input/config\n",
      "\u001b[36malgo-1-l74xa_1  |\u001b[0m SM_OUTPUT_DIR=/opt/ml/output\n",
      "\u001b[36malgo-1-l74xa_1  |\u001b[0m SM_NUM_CPUS=8\n",
      "\u001b[36malgo-1-l74xa_1  |\u001b[0m SM_NUM_GPUS=1\n",
      "\u001b[36malgo-1-l74xa_1  |\u001b[0m SM_MODEL_DIR=/opt/ml/model\n",
      "\u001b[36malgo-1-l74xa_1  |\u001b[0m SM_MODULE_DIR=s3://sagemaker-us-east-1-160951647621/tensorflow-training-2020-10-01-16-22-10-257/source/sourcedir.tar.gz\n",
      "\u001b[36malgo-1-l74xa_1  |\u001b[0m SM_TRAINING_ENV={\"additional_framework_parameters\":{},\"channel_input_dirs\":{\"train\":\"/opt/ml/input/data/train\"},\"current_host\":\"algo-1-l74xa\",\"framework_module\":\"sagemaker_tensorflow_container.training:main\",\"hosts\":[\"algo-1-l74xa\"],\"hyperparameters\":{\"batch-size\":1024,\"model_dir\":\"s3://sagemaker-us-east-1-160951647621/tensorflow-training-2020-10-01-16-22-10-257/model\",\"num-epochs\":15},\"input_config_dir\":\"/opt/ml/input/config\",\"input_data_config\":{\"train\":{\"TrainingInputMode\":\"File\"}},\"input_dir\":\"/opt/ml/input\",\"is_master\":true,\"job_name\":\"tensorflow-training-2020-10-01-16-22-10-257\",\"log_level\":20,\"master_hostname\":\"algo-1-l74xa\",\"model_dir\":\"/opt/ml/model\",\"module_dir\":\"s3://sagemaker-us-east-1-160951647621/tensorflow-training-2020-10-01-16-22-10-257/source/sourcedir.tar.gz\",\"module_name\":\"train_ae\",\"network_interface_name\":\"eth0\",\"num_cpus\":8,\"num_gpus\":1,\"output_data_dir\":\"/opt/ml/output/data\",\"output_dir\":\"/opt/ml/output\",\"output_intermediate_dir\":\"/opt/ml/output/intermediate\",\"resource_config\":{\"current_host\":\"algo-1-l74xa\",\"hosts\":[\"algo-1-l74xa\"]},\"user_entry_point\":\"train_ae.py\"}\n",
      "\u001b[36malgo-1-l74xa_1  |\u001b[0m SM_USER_ARGS=[\"--batch-size\",\"1024\",\"--model_dir\",\"s3://sagemaker-us-east-1-160951647621/tensorflow-training-2020-10-01-16-22-10-257/model\",\"--num-epochs\",\"15\"]\n",
      "\u001b[36malgo-1-l74xa_1  |\u001b[0m SM_OUTPUT_INTERMEDIATE_DIR=/opt/ml/output/intermediate\n",
      "\u001b[36malgo-1-l74xa_1  |\u001b[0m SM_CHANNEL_TRAIN=/opt/ml/input/data/train\n",
      "\u001b[36malgo-1-l74xa_1  |\u001b[0m SM_HP_NUM-EPOCHS=15\n",
      "\u001b[36malgo-1-l74xa_1  |\u001b[0m SM_HP_BATCH-SIZE=1024\n",
      "\u001b[36malgo-1-l74xa_1  |\u001b[0m SM_HP_MODEL_DIR=s3://sagemaker-us-east-1-160951647621/tensorflow-training-2020-10-01-16-22-10-257/model\n",
      "\u001b[36malgo-1-l74xa_1  |\u001b[0m PYTHONPATH=/opt/ml/code:/usr/local/bin:/usr/lib/python36.zip:/usr/lib/python3.6:/usr/lib/python3.6/lib-dynload:/usr/local/lib/python3.6/dist-packages:/usr/lib/python3/dist-packages\n",
      "\u001b[36malgo-1-l74xa_1  |\u001b[0m \n",
      "\u001b[36malgo-1-l74xa_1  |\u001b[0m Invoking script with the following command:\n",
      "\u001b[36malgo-1-l74xa_1  |\u001b[0m \n",
      "\u001b[36malgo-1-l74xa_1  |\u001b[0m /usr/bin/python3 train_ae.py --batch-size 1024 --model_dir s3://sagemaker-us-east-1-160951647621/tensorflow-training-2020-10-01-16-22-10-257/model --num-epochs 15\n",
      "\u001b[36malgo-1-l74xa_1  |\u001b[0m \n",
      "\u001b[36malgo-1-l74xa_1  |\u001b[0m \n",
      "\u001b[36malgo-1-l74xa_1  |\u001b[0m Train on 22894 samples\n",
      "\u001b[36malgo-1-l74xa_1  |\u001b[0m Epoch 1/15\n",
      "\u001b[36malgo-1-l74xa_1  |\u001b[0m 22894/22894 - 3s - loss: 0.1392\n",
      "\u001b[36malgo-1-l74xa_1  |\u001b[0m Epoch 2/15\n",
      "\u001b[36malgo-1-l74xa_1  |\u001b[0m 22894/22894 - 0s - loss: 0.0786\n",
      "\u001b[36malgo-1-l74xa_1  |\u001b[0m Epoch 3/15\n",
      "\u001b[36malgo-1-l74xa_1  |\u001b[0m 22894/22894 - 0s - loss: 0.0660\n",
      "\u001b[36malgo-1-l74xa_1  |\u001b[0m Epoch 4/15\n",
      "\u001b[36malgo-1-l74xa_1  |\u001b[0m 22894/22894 - 0s - loss: 0.0527\n",
      "\u001b[36malgo-1-l74xa_1  |\u001b[0m Epoch 5/15\n",
      "\u001b[36malgo-1-l74xa_1  |\u001b[0m 22894/22894 - 0s - loss: 0.0443\n",
      "\u001b[36malgo-1-l74xa_1  |\u001b[0m Epoch 6/15\n",
      "\u001b[36malgo-1-l74xa_1  |\u001b[0m 22894/22894 - 0s - loss: 0.0378\n",
      "\u001b[36malgo-1-l74xa_1  |\u001b[0m Epoch 7/15\n",
      "\u001b[36malgo-1-l74xa_1  |\u001b[0m 22894/22894 - 0s - loss: 0.0322\n",
      "\u001b[36malgo-1-l74xa_1  |\u001b[0m Epoch 8/15\n",
      "\u001b[36malgo-1-l74xa_1  |\u001b[0m 22894/22894 - 0s - loss: 0.0271\n",
      "\u001b[36malgo-1-l74xa_1  |\u001b[0m Epoch 9/15\n",
      "\u001b[36malgo-1-l74xa_1  |\u001b[0m 22894/22894 - 0s - loss: 0.0229\n",
      "\u001b[36malgo-1-l74xa_1  |\u001b[0m Epoch 10/15\n",
      "\u001b[36malgo-1-l74xa_1  |\u001b[0m 22894/22894 - 0s - loss: 0.0197\n",
      "\u001b[36malgo-1-l74xa_1  |\u001b[0m Epoch 11/15\n",
      "\u001b[36malgo-1-l74xa_1  |\u001b[0m 22894/22894 - 0s - loss: 0.0172\n",
      "\u001b[36malgo-1-l74xa_1  |\u001b[0m Epoch 12/15\n",
      "\u001b[36malgo-1-l74xa_1  |\u001b[0m 22894/22894 - 0s - loss: 0.0153\n",
      "\u001b[36malgo-1-l74xa_1  |\u001b[0m Epoch 13/15\n",
      "\u001b[36malgo-1-l74xa_1  |\u001b[0m 22894/22894 - 0s - loss: 0.0138\n",
      "\u001b[36malgo-1-l74xa_1  |\u001b[0m Epoch 14/15\n",
      "\u001b[36malgo-1-l74xa_1  |\u001b[0m 22894/22894 - 0s - loss: 0.0125\n",
      "\u001b[36malgo-1-l74xa_1  |\u001b[0m Epoch 15/15\n",
      "\u001b[36malgo-1-l74xa_1  |\u001b[0m 22894/22894 - 0s - loss: 0.0114\n",
      "\u001b[36malgo-1-l74xa_1  |\u001b[0m 2020-10-01 16:22:33,036 sagemaker_tensorflow_container.training WARNING  Your model will NOT be servable with SageMaker TensorFlow Serving container. The model artifact was not saved in the TensorFlow SavedModel directory structure:\n",
      "\u001b[36malgo-1-l74xa_1  |\u001b[0m https://www.tensorflow.org/guide/saved_model#structure_of_a_savedmodel_directory\n",
      "\u001b[36malgo-1-l74xa_1  |\u001b[0m 2020-10-01 16:22:33,037 sagemaker-containers INFO     Reporting training SUCCESS\n",
      "\u001b[36mtmpcb7bu3_4_algo-1-l74xa_1 exited with code 0\n",
      "\u001b[0mAborting on container exit...\n",
      "===== Job Complete =====\n"
     ]
    }
   ],
   "source": [
    "estimator.fit(inputs)"
   ]
  },
  {
   "cell_type": "code",
   "execution_count": 12,
   "metadata": {},
   "outputs": [
    {
     "data": {
      "text/plain": [
       "'s3://sagemaker-us-east-1-160951647621/tensorflow-training-2020-10-01-16-22-10-257/model.tar.gz'"
      ]
     },
     "execution_count": 12,
     "metadata": {},
     "output_type": "execute_result"
    }
   ],
   "source": [
    "estimator.model_data"
   ]
  }
 ],
 "metadata": {
  "kernelspec": {
   "display_name": "conda_tensorflow2_p36",
   "language": "python",
   "name": "conda_tensorflow2_p36"
  },
  "language_info": {
   "codemirror_mode": {
    "name": "ipython",
    "version": 3
   },
   "file_extension": ".py",
   "mimetype": "text/x-python",
   "name": "python",
   "nbconvert_exporter": "python",
   "pygments_lexer": "ipython3",
   "version": "3.6.10"
  },
  "widgets": {
   "application/vnd.jupyter.widget-state+json": {
    "state": {},
    "version_major": 2,
    "version_minor": 0
   }
  }
 },
 "nbformat": 4,
 "nbformat_minor": 4
}
