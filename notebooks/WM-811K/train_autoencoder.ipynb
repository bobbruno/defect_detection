{
 "cells": [
  {
   "cell_type": "markdown",
   "metadata": {
    "Collapsed": "false"
   },
   "source": [
    "# Running on Notebook"
   ]
  },
  {
   "cell_type": "code",
   "execution_count": 1,
   "metadata": {
    "Collapsed": "false"
   },
   "outputs": [],
   "source": [
    "import sagemaker\n",
    "import numpy as np\n",
    "import matplotlib.pyplot as plt\n",
    "from tensorflow.keras import layers, Input, models\n",
    "from pathlib import Path\n"
   ]
  },
  {
   "cell_type": "code",
   "execution_count": 4,
   "metadata": {
    "Collapsed": "false"
   },
   "outputs": [
    {
     "name": "stdout",
     "output_type": "stream",
     "text": [
      "Train on 22894 samples\n",
      "Epoch 1/15\n",
      "22894/22894 - 21s - loss: 0.1218\n",
      "Epoch 2/15\n",
      "22894/22894 - 0s - loss: 0.0737\n",
      "Epoch 3/15\n",
      "22894/22894 - 0s - loss: 0.0638\n",
      "Epoch 4/15\n",
      "22894/22894 - 0s - loss: 0.0529\n",
      "Epoch 5/15\n",
      "22894/22894 - 0s - loss: 0.0435\n",
      "Epoch 6/15\n",
      "22894/22894 - 0s - loss: 0.0375\n",
      "Epoch 7/15\n",
      "22894/22894 - 0s - loss: 0.0320\n",
      "Epoch 8/15\n",
      "22894/22894 - 0s - loss: 0.0271\n",
      "Epoch 9/15\n",
      "22894/22894 - 0s - loss: 0.0231\n",
      "Epoch 10/15\n",
      "22894/22894 - 0s - loss: 0.0201\n",
      "Epoch 11/15\n",
      "22894/22894 - 0s - loss: 0.0178\n",
      "Epoch 12/15\n",
      "22894/22894 - 0s - loss: 0.0160\n",
      "Epoch 13/15\n",
      "22894/22894 - 0s - loss: 0.0145\n",
      "Epoch 14/15\n",
      "22894/22894 - 0s - loss: 0.0133\n",
      "Epoch 15/15\n",
      "22894/22894 - 0s - loss: 0.0122\n"
     ]
    }
   ],
   "source": [
    "def create_autoencoder(data, epochs, batch_size):\n",
    "    input_shape = (26, 26, 3)\n",
    "    input_tensor = Input(input_shape)\n",
    "    encode = layers.Conv2D(64, (3,3), padding='same', activation='relu')(input_tensor)\n",
    "\n",
    "    latent_vector = layers.MaxPool2D()(encode)\n",
    "\n",
    "    # Decoder\n",
    "    decode_layer_1 = layers.Conv2DTranspose(64, (3,3), padding='same', activation='relu')\n",
    "    decode_layer_2 = layers.UpSampling2D()\n",
    "    output_tensor = layers.Conv2DTranspose(3, (3,3), padding='same', activation='sigmoid')\n",
    "\n",
    "    # connect decoder layers\n",
    "    decode = decode_layer_1(latent_vector)\n",
    "    decode = decode_layer_2(decode)\n",
    "\n",
    "    ae = models.Model(input_tensor, output_tensor(decode))\n",
    "    ae.compile(\n",
    "        optimizer = 'Adam',\n",
    "        loss = 'mse',\n",
    "    )\n",
    "    ae.fit(data, data,\n",
    "        batch_size=batch_size,\n",
    "        epochs=epochs,\n",
    "        verbose=2)\n",
    "    \n",
    "    decoder_input = Input((13, 13, 64))\n",
    "    decoder = decode_layer_1(decoder_input)\n",
    "    decoder = decode_layer_2(decoder)\n",
    "    \n",
    "    return ae, models.Model(input_tensor, latent_vector), models.Model(decoder_input, output_tensor(decoder))\n",
    "\n",
    "\n",
    "def load_data(bucket: str, path: str, file_name: str=\"data.npz\", temp_folder: str=\"/tmp\"):\n",
    "    file_path = Path(path) / file_name\n",
    "    temp_file = Path(temp_folder) / file_name\n",
    "    sagemaker.utils.download_file(bucket, str(file_path), str(temp_file), sagemaker.session.Session())\n",
    "    with np.load(str(temp_file), allow_pickle=True) as data:\n",
    "        x = data['x']\n",
    "        y = data['y']\n",
    "    return (x, y)\n",
    "\n",
    "if __name__ == \"__main__\":\n",
    "    x, y = load_data(\n",
    "        \"sagemaker-us-east-1-160951647621\",\n",
    "        \"wafer-data-processing-2020-10-04-21-48-20-207/output/autoencoder/train\",\n",
    "    )\n",
    "    ae, encoder, decoder = create_autoencoder(x, epochs=15, batch_size=1024)"
   ]
  },
  {
   "cell_type": "code",
   "execution_count": 6,
   "metadata": {
    "Collapsed": "false"
   },
   "outputs": [],
   "source": [
    "encoded_x = encoder.predict(x)\n",
    "noised_encoded_x = encoded_x + np.random.normal(loc=0, scale=0.1, size = (len(encoded_x), 13, 13, 64))"
   ]
  },
  {
   "cell_type": "code",
   "execution_count": 7,
   "metadata": {
    "Collapsed": "false"
   },
   "outputs": [
    {
     "data": {
      "image/png": "[encoded data removed]",
      "text/plain": [
       "<Figure size 1512x504 with 3 Axes>"
      ]
     },
     "metadata": {
      "needs_background": "light"
     },
     "output_type": "display_data"
    }
   ],
   "source": [
    "fig, ax = plt.subplots(nrows=1, ncols=3, figsize=(21, 7))\n",
    "\n",
    "ax[0].imshow(np.argmax(x[3], axis=2));\n",
    "ax[0].set_title(\"Original map\")\n",
    "noised_gen_x = np.argmax(decoder.predict(noised_encoded_x), axis=3)\n",
    "ax[1].imshow(noised_gen_x[3])\n",
    "ax[1].set_title(\"Map with Noise\")\n",
    "gen_x = np.argmax(ae.predict(x), axis=3)\n",
    "ax[2].imshow(gen_x[3])\n",
    "ax[2].set_title(\"Reconstructed map\")\n",
    "fig.show()"
   ]
  },
  {
   "cell_type": "markdown",
   "metadata": {
    "Collapsed": "true"
   },
   "source": [
    "# Script"
   ]
  },
  {
   "cell_type": "code",
   "execution_count": 1,
   "metadata": {
    "Collapsed": "false"
   },
   "outputs": [
    {
     "name": "stdout",
     "output_type": "stream",
     "text": [
      "Overwriting src/train_ae.py\n"
     ]
    }
   ],
   "source": [
    "%%writefile src/train_ae.py\n",
    "import os\n",
    "import sagemaker\n",
    "import numpy as np\n",
    "import argparse\n",
    "from tensorflow.keras import layers, Input, models\n",
    "from pathlib import Path\n",
    "\n",
    "\n",
    "def parse_arguments():\n",
    "    parser = argparse.ArgumentParser(formatter_class=argparse.ArgumentDefaultsHelpFormatter)\n",
    "    parser.add_argument(\"--num-epochs\", type=int, default=15)\n",
    "    parser.add_argument(\"--batch-size\", type=int, default=1024)\n",
    "    parser.add_argument(\"--max-rows\", type=int, default=None)\n",
    "    parser.add_argument(\"--model_dir\", type=str, default=None)\n",
    "    parser.add_argument('--model-save-dir', type=str, default=os.environ['SM_MODEL_DIR'])\n",
    "    parser.add_argument('--train', type=str, default=os.environ['SM_CHANNEL_TRAIN'])\n",
    "#    parser.add_argument('--test', type=str, default=os.environ['SM_CHANNEL_TEST'])\n",
    "    return parser.parse_args()\n",
    "\n",
    "    \n",
    "def create_autoencoder(data, epochs, batch_size):\n",
    "    input_shape = (26, 26, 3)\n",
    "    input_tensor = Input(input_shape)\n",
    "    encode = layers.Conv2D(64, (3,3), padding='same', activation='relu')(input_tensor)\n",
    "\n",
    "    latent_vector = layers.MaxPool2D()(encode)\n",
    "\n",
    "    # Decoder\n",
    "    decode_layer_1 = layers.Conv2DTranspose(64, (3,3), padding='same', activation='relu')\n",
    "    decode_layer_2 = layers.UpSampling2D()\n",
    "    output_tensor = layers.Conv2DTranspose(3, (3,3), padding='same', activation='sigmoid')\n",
    "\n",
    "    # connect decoder layers\n",
    "    decode = decode_layer_1(latent_vector)\n",
    "    decode = decode_layer_2(decode)\n",
    "\n",
    "    ae = models.Model(input_tensor, output_tensor(decode))\n",
    "    ae.compile(\n",
    "        optimizer = 'Adam',\n",
    "        loss = 'mse',\n",
    "    )\n",
    "    ae.fit(data, data,\n",
    "        batch_size=batch_size,\n",
    "        epochs=epochs,\n",
    "        verbose=2)\n",
    "    \n",
    "    decoder_input = Input((13, 13, 64))\n",
    "    decoder = decode_layer_1(decoder_input)\n",
    "    decoder = decode_layer_2(decoder)\n",
    "    \n",
    "    return ae, models.Model(input_tensor, latent_vector), models.Model(decoder_input, output_tensor(decoder))\n",
    "\n",
    "\n",
    "def load_data(path: str, file_name: str=\"data.npz\", limit: int=None):\n",
    "    file_path = Path(path) / file_name\n",
    "    with np.load(str(file_path), allow_pickle=True) as data:\n",
    "        x = data['x']\n",
    "        y = data['y']\n",
    "    if limit:\n",
    "        return (x[:limit], y[:limit])\n",
    "    else:\n",
    "        return (x, y)\n",
    "\n",
    "if __name__ == \"__main__\":\n",
    "    args = parse_arguments()\n",
    "    x, y = load_data(\n",
    "        args.train, \n",
    "        \"data.npz\",\n",
    "        limit=args.max_rows\n",
    "    )\n",
    "    ae, encoder, decoder = create_autoencoder(x, epochs=15, batch_size=1024)\n",
    "    ae.save(str(Path(args.model_save_dir) / \"ae.h5\" ))\n",
    "    encoder.save(str(Path(args.model_save_dir) / \"encoder.h5\" ))\n",
    "    decoder.save(str(Path(args.model_save_dir) / \"decoder.h5\" ))"
   ]
  },
  {
   "cell_type": "markdown",
   "metadata": {
    "Collapsed": "false"
   },
   "source": [
    "# Run on Container"
   ]
  },
  {
   "cell_type": "markdown",
   "metadata": {
    "Collapsed": "false"
   },
   "source": [
    "## Data Parameters"
   ]
  },
  {
   "cell_type": "code",
   "execution_count": 17,
   "metadata": {
    "Collapsed": "false"
   },
   "outputs": [
    {
     "name": "stdout",
     "output_type": "stream",
     "text": [
      "{'train': 's3://sagemaker-us-east-1-160951647621/data-augmentation-2020-10-05-00-02-40-520/output/classifier/train'}\n"
     ]
    }
   ],
   "source": [
    "bucket = \"sagemaker-us-east-1-160951647621\"\n",
    "data_path = \"wafer-data-processing-2020-10-04-21-48-20-207/output/autoencoder/train\"\n",
    "\n",
    "inputs = {\n",
    "    \"train\": f\"s3://{bucket}/{data_path}\"\n",
    "}"
   ]
  },
  {
   "cell_type": "markdown",
   "metadata": {
    "Collapsed": "false"
   },
   "source": [
    "## Instance and Hyperparameters"
   ]
  },
  {
   "cell_type": "code",
   "execution_count": 18,
   "metadata": {
    "Collapsed": "false"
   },
   "outputs": [],
   "source": [
    "train_instance_type = \"ml.p3.2xlarge\"\n",
    "hyperparameters = {\n",
    "    #\"max-rows\": 1024,\n",
    "    \"num-epochs\": 15,\n",
    "    \"batch-size\": 1024,\n",
    "}"
   ]
  },
  {
   "cell_type": "markdown",
   "metadata": {
    "Collapsed": "false"
   },
   "source": [
    "## Estimator Creation"
   ]
  },
  {
   "cell_type": "code",
   "execution_count": 23,
   "metadata": {
    "Collapsed": "false"
   },
   "outputs": [
    {
     "data": {
      "text/plain": [
       "'1.72.1'"
      ]
     },
     "execution_count": 23,
     "metadata": {},
     "output_type": "execute_result"
    }
   ],
   "source": [
    "sagemaker.__version__"
   ]
  },
  {
   "cell_type": "code",
   "execution_count": 20,
   "metadata": {
    "Collapsed": "false"
   },
   "outputs": [],
   "source": [
    "import sagemaker\n",
    "from sagemaker.tensorflow import TensorFlow\n",
    "\n",
    "estimator = TensorFlow(entry_point='src/train_ae.py',\n",
    "                       base_job_name='train-autoencoder',\n",
    "                       train_instance_type=train_instance_type,\n",
    "                       train_instance_count=1,\n",
    "                       hyperparameters=hyperparameters,\n",
    "                       role=sagemaker.get_execution_role(), # Passes to the container the AWS role that you are using on this notebook\n",
    "                       framework_version='2.1.0',\n",
    "                       py_version='py3',\n",
    "                       script_mode=True)"
   ]
  },
  {
   "cell_type": "markdown",
   "metadata": {
    "Collapsed": "false"
   },
   "source": [
    "## Model Training"
   ]
  },
  {
   "cell_type": "code",
   "execution_count": 16,
   "metadata": {
    "Collapsed": "false"
   },
   "outputs": [
    {
     "name": "stderr",
     "output_type": "stream",
     "text": [
      "'create_image_uri' will be deprecated in favor of 'ImageURIProvider' class in SageMaker Python SDK v2.\n",
      "'s3_input' class will be renamed to 'TrainingInput' in SageMaker Python SDK v2.\n",
      "'create_image_uri' will be deprecated in favor of 'ImageURIProvider' class in SageMaker Python SDK v2.\n"
     ]
    },
    {
     "name": "stdout",
     "output_type": "stream",
     "text": [
      "2020-10-04 23:23:27 Starting - Starting the training job...\n",
      "2020-10-04 23:23:29 Starting - Launching requested ML instances......\n",
      "2020-10-04 23:24:51 Starting - Preparing the instances for training.........\n",
      "2020-10-04 23:26:06 Downloading - Downloading input data\n",
      "2020-10-04 23:26:06 Training - Downloading the training image......\n",
      "2020-10-04 23:27:18 Training - Training image download completed. Training in progress..\u001b[34m2020-10-04 23:27:23,010 sagemaker-containers INFO     Imported framework sagemaker_tensorflow_container.training\u001b[0m\n",
      "\u001b[34m2020-10-04 23:27:23,448 sagemaker-containers INFO     Invoking user script\n",
      "\u001b[0m\n",
      "\u001b[34mTraining Env:\n",
      "\u001b[0m\n",
      "\u001b[34m{\n",
      "    \"additional_framework_parameters\": {},\n",
      "    \"channel_input_dirs\": {\n",
      "        \"train\": \"/opt/ml/input/data/train\"\n",
      "    },\n",
      "    \"current_host\": \"algo-1\",\n",
      "    \"framework_module\": \"sagemaker_tensorflow_container.training:main\",\n",
      "    \"hosts\": [\n",
      "        \"algo-1\"\n",
      "    ],\n",
      "    \"hyperparameters\": {\n",
      "        \"batch-size\": 1024,\n",
      "        \"num-epochs\": 15,\n",
      "        \"model_dir\": \"s3://sagemaker-us-east-1-160951647621/tensorflow-training-2020-10-04-23-08-39-857/model\"\n",
      "    },\n",
      "    \"input_config_dir\": \"/opt/ml/input/config\",\n",
      "    \"input_data_config\": {\n",
      "        \"train\": {\n",
      "            \"TrainingInputMode\": \"File\",\n",
      "            \"S3DistributionType\": \"FullyReplicated\",\n",
      "            \"RecordWrapperType\": \"None\"\n",
      "        }\n",
      "    },\n",
      "    \"input_dir\": \"/opt/ml/input\",\n",
      "    \"is_master\": true,\n",
      "    \"job_name\": \"tensorflow-training-2020-10-04-23-23-27-366\",\n",
      "    \"log_level\": 20,\n",
      "    \"master_hostname\": \"algo-1\",\n",
      "    \"model_dir\": \"/opt/ml/model\",\n",
      "    \"module_dir\": \"s3://sagemaker-us-east-1-160951647621/tensorflow-training-2020-10-04-23-23-27-366/source/sourcedir.tar.gz\",\n",
      "    \"module_name\": \"train_ae\",\n",
      "    \"network_interface_name\": \"eth0\",\n",
      "    \"num_cpus\": 8,\n",
      "    \"num_gpus\": 1,\n",
      "    \"output_data_dir\": \"/opt/ml/output/data\",\n",
      "    \"output_dir\": \"/opt/ml/output\",\n",
      "    \"output_intermediate_dir\": \"/opt/ml/output/intermediate\",\n",
      "    \"resource_config\": {\n",
      "        \"current_host\": \"algo-1\",\n",
      "        \"hosts\": [\n",
      "            \"algo-1\"\n",
      "        ],\n",
      "        \"network_interface_name\": \"eth0\"\n",
      "    },\n",
      "    \"user_entry_point\": \"train_ae.py\"\u001b[0m\n",
      "\u001b[34m}\n",
      "\u001b[0m\n",
      "\u001b[34mEnvironment variables:\n",
      "\u001b[0m\n",
      "\u001b[34mSM_HOSTS=[\"algo-1\"]\u001b[0m\n",
      "\u001b[34mSM_NETWORK_INTERFACE_NAME=eth0\u001b[0m\n",
      "\u001b[34mSM_HPS={\"batch-size\":1024,\"model_dir\":\"s3://sagemaker-us-east-1-160951647621/tensorflow-training-2020-10-04-23-08-39-857/model\",\"num-epochs\":15}\u001b[0m\n",
      "\u001b[34mSM_USER_ENTRY_POINT=train_ae.py\u001b[0m\n",
      "\u001b[34mSM_FRAMEWORK_PARAMS={}\u001b[0m\n",
      "\u001b[34mSM_RESOURCE_CONFIG={\"current_host\":\"algo-1\",\"hosts\":[\"algo-1\"],\"network_interface_name\":\"eth0\"}\u001b[0m\n",
      "\u001b[34mSM_INPUT_DATA_CONFIG={\"train\":{\"RecordWrapperType\":\"None\",\"S3DistributionType\":\"FullyReplicated\",\"TrainingInputMode\":\"File\"}}\u001b[0m\n",
      "\u001b[34mSM_OUTPUT_DATA_DIR=/opt/ml/output/data\u001b[0m\n",
      "\u001b[34mSM_CHANNELS=[\"train\"]\u001b[0m\n",
      "\u001b[34mSM_CURRENT_HOST=algo-1\u001b[0m\n",
      "\u001b[34mSM_MODULE_NAME=train_ae\u001b[0m\n",
      "\u001b[34mSM_LOG_LEVEL=20\u001b[0m\n",
      "\u001b[34mSM_FRAMEWORK_MODULE=sagemaker_tensorflow_container.training:main\u001b[0m\n",
      "\u001b[34mSM_INPUT_DIR=/opt/ml/input\u001b[0m\n",
      "\u001b[34mSM_INPUT_CONFIG_DIR=/opt/ml/input/config\u001b[0m\n",
      "\u001b[34mSM_OUTPUT_DIR=/opt/ml/output\u001b[0m\n",
      "\u001b[34mSM_NUM_CPUS=8\u001b[0m\n",
      "\u001b[34mSM_NUM_GPUS=1\u001b[0m\n",
      "\u001b[34mSM_MODEL_DIR=/opt/ml/model\u001b[0m\n",
      "\u001b[34mSM_MODULE_DIR=s3://sagemaker-us-east-1-160951647621/tensorflow-training-2020-10-04-23-23-27-366/source/sourcedir.tar.gz\u001b[0m\n",
      "\u001b[34mSM_TRAINING_ENV={\"additional_framework_parameters\":{},\"channel_input_dirs\":{\"train\":\"/opt/ml/input/data/train\"},\"current_host\":\"algo-1\",\"framework_module\":\"sagemaker_tensorflow_container.training:main\",\"hosts\":[\"algo-1\"],\"hyperparameters\":{\"batch-size\":1024,\"model_dir\":\"s3://sagemaker-us-east-1-160951647621/tensorflow-training-2020-10-04-23-08-39-857/model\",\"num-epochs\":15},\"input_config_dir\":\"/opt/ml/input/config\",\"input_data_config\":{\"train\":{\"RecordWrapperType\":\"None\",\"S3DistributionType\":\"FullyReplicated\",\"TrainingInputMode\":\"File\"}},\"input_dir\":\"/opt/ml/input\",\"is_master\":true,\"job_name\":\"tensorflow-training-2020-10-04-23-23-27-366\",\"log_level\":20,\"master_hostname\":\"algo-1\",\"model_dir\":\"/opt/ml/model\",\"module_dir\":\"s3://sagemaker-us-east-1-160951647621/tensorflow-training-2020-10-04-23-23-27-366/source/sourcedir.tar.gz\",\"module_name\":\"train_ae\",\"network_interface_name\":\"eth0\",\"num_cpus\":8,\"num_gpus\":1,\"output_data_dir\":\"/opt/ml/output/data\",\"output_dir\":\"/opt/ml/output\",\"output_intermediate_dir\":\"/opt/ml/output/intermediate\",\"resource_config\":{\"current_host\":\"algo-1\",\"hosts\":[\"algo-1\"],\"network_interface_name\":\"eth0\"},\"user_entry_point\":\"train_ae.py\"}\u001b[0m\n",
      "\u001b[34mSM_USER_ARGS=[\"--batch-size\",\"1024\",\"--model_dir\",\"s3://sagemaker-us-east-1-160951647621/tensorflow-training-2020-10-04-23-08-39-857/model\",\"--num-epochs\",\"15\"]\u001b[0m\n",
      "\u001b[34mSM_OUTPUT_INTERMEDIATE_DIR=/opt/ml/output/intermediate\u001b[0m\n",
      "\u001b[34mSM_CHANNEL_TRAIN=/opt/ml/input/data/train\u001b[0m\n",
      "\u001b[34mSM_HP_BATCH-SIZE=1024\u001b[0m\n",
      "\u001b[34mSM_HP_NUM-EPOCHS=15\u001b[0m\n",
      "\u001b[34mSM_HP_MODEL_DIR=s3://sagemaker-us-east-1-160951647621/tensorflow-training-2020-10-04-23-08-39-857/model\u001b[0m\n",
      "\u001b[34mPYTHONPATH=/opt/ml/code:/usr/local/bin:/usr/lib/python36.zip:/usr/lib/python3.6:/usr/lib/python3.6/lib-dynload:/usr/local/lib/python3.6/dist-packages:/usr/lib/python3/dist-packages\n",
      "\u001b[0m\n",
      "\u001b[34mInvoking script with the following command:\n",
      "\u001b[0m\n",
      "\u001b[34m/usr/bin/python3 train_ae.py --batch-size 1024 --model_dir s3://sagemaker-us-east-1-160951647621/tensorflow-training-2020-10-04-23-08-39-857/model --num-epochs 15\n",
      "\n",
      "\u001b[0m\n",
      "\u001b[34m(array(['Center', 'Donut', 'Edge-Loc', 'Edge-Ring', 'Loc', 'Near-full',\n",
      "       'Random', 'Scratch', 'none'], dtype=object), array([  803,    14,   680,  1093,   634,    32,   282,   165, 19191]))\u001b[0m\n",
      "\u001b[34m[2020-10-04 23:27:29.584 ip-10-0-229-89.ec2.internal:27 INFO json_config.py:90] Creating hook from json_config at /opt/ml/input/config/debughookconfig.json.\u001b[0m\n",
      "\u001b[34m[2020-10-04 23:27:29.585 ip-10-0-229-89.ec2.internal:27 INFO hook.py:183] tensorboard_dir has not been set for the hook. SMDebug will not be exporting tensorboard summaries.\u001b[0m\n",
      "\u001b[34m[2020-10-04 23:27:29.585 ip-10-0-229-89.ec2.internal:27 INFO hook.py:228] Saving to /opt/ml/output/tensors\u001b[0m\n",
      "\u001b[34mTrain on 22894 samples\u001b[0m\n",
      "\u001b[34m[2020-10-04 23:27:30.255 ip-10-0-229-89.ec2.internal:27 INFO keras.py:68] Executing in TF2.x eager mode.TF 2.x eager doesn't provide gradient and optimizer variable values.SageMaker Debugger will not be saving gradients and optimizer variables in this case\u001b[0m\n",
      "\u001b[34mEpoch 1/15\u001b[0m\n",
      "\u001b[34m[2020-10-04 23:27:30.266 ip-10-0-229-89.ec2.internal:27 INFO hook.py:364] Monitoring the collections: losses, metrics, sm_metrics\u001b[0m\n",
      "\u001b[34mERROR:root:'NoneType' object has no attribute 'write'\u001b[0m\n",
      "\u001b[34m22894/22894 - 6s - loss: 0.1268\u001b[0m\n",
      "\u001b[34mEpoch 2/15\u001b[0m\n",
      "\u001b[34m22894/22894 - 0s - loss: 0.0737\u001b[0m\n",
      "\u001b[34mEpoch 3/15\u001b[0m\n",
      "\u001b[34m22894/22894 - 0s - loss: 0.0630\u001b[0m\n",
      "\u001b[34mEpoch 4/15\u001b[0m\n",
      "\u001b[34m22894/22894 - 0s - loss: 0.0507\u001b[0m\n",
      "\u001b[34mEpoch 5/15\u001b[0m\n",
      "\u001b[34m22894/22894 - 1s - loss: 0.0434\u001b[0m\n",
      "\u001b[34mEpoch 6/15\u001b[0m\n",
      "\u001b[34m22894/22894 - 0s - loss: 0.0379\u001b[0m\n",
      "\u001b[34mEpoch 7/15\u001b[0m\n",
      "\u001b[34m22894/22894 - 1s - loss: 0.0328\u001b[0m\n",
      "\u001b[34mEpoch 8/15\u001b[0m\n",
      "\u001b[34m22894/22894 - 0s - loss: 0.0277\u001b[0m\n",
      "\u001b[34mEpoch 9/15\u001b[0m\n",
      "\u001b[34m22894/22894 - 0s - loss: 0.0234\u001b[0m\n",
      "\u001b[34mEpoch 10/15\u001b[0m\n",
      "\u001b[34m22894/22894 - 0s - loss: 0.0199\u001b[0m\n",
      "\u001b[34mEpoch 11/15\u001b[0m\n",
      "\u001b[34m22894/22894 - 0s - loss: 0.0173\u001b[0m\n",
      "\u001b[34mEpoch 12/15\u001b[0m\n",
      "\u001b[34m22894/22894 - 0s - loss: 0.0154\u001b[0m\n",
      "\u001b[34mEpoch 13/15\u001b[0m\n",
      "\u001b[34m22894/22894 - 0s - loss: 0.0138\u001b[0m\n",
      "\u001b[34mEpoch 14/15\u001b[0m\n",
      "\u001b[34m22894/22894 - 0s - loss: 0.0126\u001b[0m\n",
      "\u001b[34mEpoch 15/15\u001b[0m\n",
      "\u001b[34m22894/22894 - 0s - loss: 0.0115\u001b[0m\n",
      "\u001b[34mModel: \"model\"\u001b[0m\n",
      "\u001b[34m_________________________________________________________________\u001b[0m\n",
      "\u001b[34mLayer (type)                 Output Shape              Param #   \u001b[0m\n",
      "\u001b[34m=================================================================\u001b[0m\n",
      "\u001b[34minput_1 (InputLayer)         [(None, 26, 26, 3)]       0         \u001b[0m\n",
      "\u001b[34m_________________________________________________________________\u001b[0m\n",
      "\u001b[34mconv2d (Conv2D)              (None, 26, 26, 64)        1792      \u001b[0m\n",
      "\u001b[34m_________________________________________________________________\u001b[0m\n",
      "\u001b[34mmax_pooling2d (MaxPooling2D) (None, 13, 13, 64)        0         \u001b[0m\n",
      "\u001b[34m_________________________________________________________________\u001b[0m\n",
      "\u001b[34mconv2d_transpose (Conv2DTran (None, 13, 13, 64)        36928     \u001b[0m\n",
      "\u001b[34m_________________________________________________________________\u001b[0m\n",
      "\u001b[34mup_sampling2d (UpSampling2D) (None, 26, 26, 64)        0         \u001b[0m\n",
      "\u001b[34m_________________________________________________________________\u001b[0m\n",
      "\u001b[34mconv2d_transpose_1 (Conv2DTr (None, 26, 26, 3)         1731      \u001b[0m\n",
      "\u001b[34m=================================================================\u001b[0m\n",
      "\u001b[34mTotal params: 40,451\u001b[0m\n",
      "\u001b[34mTrainable params: 40,451\u001b[0m\n",
      "\u001b[34mNon-trainable params: 0\u001b[0m\n",
      "\u001b[34m_________________________________________________________________\u001b[0m\n",
      "\u001b[34mINFO:root:Autoencoder: None\u001b[0m\n",
      "\u001b[34mModel: \"model_1\"\u001b[0m\n",
      "\u001b[34m_________________________________________________________________\u001b[0m\n",
      "\u001b[34mLayer (type)                 Output Shape              Param #   \u001b[0m\n",
      "\u001b[34m=================================================================\u001b[0m\n",
      "\u001b[34minput_1 (InputLayer)         [(None, 26, 26, 3)]       0         \u001b[0m\n",
      "\u001b[34m_________________________________________________________________\u001b[0m\n",
      "\u001b[34mconv2d (Conv2D)              (None, 26, 26, 64)        1792      \u001b[0m\n",
      "\u001b[34m_________________________________________________________________\u001b[0m\n",
      "\u001b[34mmax_pooling2d (MaxPooling2D) (None, 13, 13, 64)        0         \u001b[0m\n",
      "\u001b[34m=================================================================\u001b[0m\n",
      "\u001b[34mTotal params: 1,792\u001b[0m\n",
      "\u001b[34mTrainable params: 1,792\u001b[0m\n",
      "\u001b[34mNon-trainable params: 0\u001b[0m\n",
      "\u001b[34m_________________________________________________________________\u001b[0m\n",
      "\u001b[34mINFO:root:Encoder: None\u001b[0m\n",
      "\u001b[34mModel: \"model_2\"\u001b[0m\n",
      "\u001b[34m_________________________________________________________________\u001b[0m\n",
      "\u001b[34mLayer (type)                 Output Shape              Param #   \u001b[0m\n",
      "\u001b[34m=================================================================\u001b[0m\n",
      "\u001b[34minput_2 (InputLayer)         [(None, 13, 13, 64)]      0         \u001b[0m\n",
      "\u001b[34m_________________________________________________________________\u001b[0m\n",
      "\u001b[34mconv2d_transpose (Conv2DTran (None, 13, 13, 64)        36928     \u001b[0m\n",
      "\u001b[34m_________________________________________________________________\u001b[0m\n",
      "\u001b[34mup_sampling2d (UpSampling2D) (None, 26, 26, 64)        0         \u001b[0m\n",
      "\u001b[34m_________________________________________________________________\u001b[0m\n",
      "\u001b[34mconv2d_transpose_1 (Conv2DTr (None, 26, 26, 3)         1731      \u001b[0m\n",
      "\u001b[34m=================================================================\u001b[0m\n",
      "\u001b[34mTotal params: 38,659\u001b[0m\n",
      "\u001b[34mTrainable params: 38,659\u001b[0m\n",
      "\u001b[34mNon-trainable params: 0\u001b[0m\n",
      "\u001b[34m_________________________________________________________________\u001b[0m\n",
      "\u001b[34mINFO:root:Dncoder: None\u001b[0m\n",
      "\u001b[34m[2020-10-04 23:27:43.148 ip-10-0-229-89.ec2.internal:27 INFO utils.py:25] The end of training job file will not be written for jobs running under SageMaker.\u001b[0m\n",
      "\u001b[34m2020-10-04 23:27:44,274 sagemaker_tensorflow_container.training WARNING  Your model will NOT be servable with SageMaker TensorFlow Serving container. The model artifact was not saved in the TensorFlow SavedModel directory structure:\u001b[0m\n",
      "\u001b[34mhttps://www.tensorflow.org/guide/saved_model#structure_of_a_savedmodel_directory\u001b[0m\n",
      "\u001b[34m2020-10-04 23:27:44,275 sagemaker-containers INFO     Reporting training SUCCESS\u001b[0m\n",
      "\n",
      "2020-10-04 23:27:56 Uploading - Uploading generated training model\n",
      "2020-10-04 23:27:56 Completed - Training job completed\n",
      "Training seconds: 117\n",
      "Billable seconds: 117\n"
     ]
    }
   ],
   "source": [
    "estimator.fit(inputs)"
   ]
  },
  {
   "cell_type": "code",
   "execution_count": null,
   "metadata": {
    "Collapsed": "false"
   },
   "outputs": [],
   "source": [
    "estimator.model_data"
   ]
  }
 ],
 "metadata": {
  "kernelspec": {
   "display_name": "conda_tensorflow2_p36",
   "language": "python",
   "name": "conda_tensorflow2_p36"
  },
  "language_info": {
   "codemirror_mode": {
    "name": "ipython",
    "version": 3
   },
   "file_extension": ".py",
   "mimetype": "text/x-python",
   "name": "python",
   "nbconvert_exporter": "python",
   "pygments_lexer": "ipython3",
   "version": "3.6.10"
  },
  "widgets": {
   "application/vnd.jupyter.widget-state+json": {
    "state": {},
    "version_major": 2,
    "version_minor": 0
   }
  }
 },
 "nbformat": 4,
 "nbformat_minor": 4
}
