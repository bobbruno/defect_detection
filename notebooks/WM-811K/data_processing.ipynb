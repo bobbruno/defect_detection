{
 "cells": [
  {
   "cell_type": "markdown",
   "metadata": {
    "Collapsed": "true"
   },
   "source": [
    "### Set SageMaker version for Local Mode for Processing\n",
    "\n",
    "The cells below will install specific versions of the SageMaker SDK. Pick jost one, run it once and then comment it out."
   ]
  },
  {
   "cell_type": "markdown",
   "metadata": {
    "Collapsed": "false"
   },
   "source": [
    "#### Dev version 2.9 (Processing Local Mode Support)"
   ]
  },
  {
   "cell_type": "code",
   "execution_count": 2,
   "metadata": {
    "Collapsed": "false"
   },
   "outputs": [
    {
     "name": "stdout",
     "output_type": "stream",
     "text": [
      "download: s3://gianpo-public/sagemaker-2.9.2.dev0.tar.gz to ./sagemaker-2.9.2.dev0.tar.gz\n"
     ]
    },
    {
     "data": {
      "text/plain": [
       "{'status': 'ok', 'restart': True}"
      ]
     },
     "execution_count": 2,
     "metadata": {},
     "output_type": "execute_result"
    }
   ],
   "source": [
    "import sys\n",
    "import IPython\n",
    "dist_version = '2.9.2.dev0'\n",
    "\n",
    "!aws s3 cp s3://gianpo-public/sagemaker-{dist_version}.tar.gz .\n",
    "!{sys.executable} -m pip install -q -U pip\n",
    "!{sys.executable} -m pip install -q sagemaker-{dist_version}.tar.gz\n",
    "IPython.Application.instance().kernel.do_shutdown(True)"
   ]
  },
  {
   "cell_type": "markdown",
   "metadata": {
    "Collapsed": "true"
   },
   "source": [
    "#### Latest release"
   ]
  },
  {
   "cell_type": "code",
   "execution_count": null,
   "metadata": {
    "Collapsed": "false"
   },
   "outputs": [],
   "source": [
    "#!pip install -U sagemaker\n",
    "#import IPython\n",
    "#IPython.Application.instance().kernel.do_shutdown(True)"
   ]
  },
  {
   "cell_type": "markdown",
   "metadata": {
    "Collapsed": "false"
   },
   "source": [
    "#### Latest 1.x Release"
   ]
  },
  {
   "cell_type": "code",
   "execution_count": null,
   "metadata": {
    "Collapsed": "false"
   },
   "outputs": [],
   "source": [
    "#!pip install -U sagemaker==1.72.1\n",
    "#import IPython\n",
    "#IPython.Application.instance().kernel.do_shutdown(True)"
   ]
  },
  {
   "cell_type": "markdown",
   "metadata": {
    "Collapsed": "false"
   },
   "source": [
    "# Data Processing Job Creationg and Execution"
   ]
  },
  {
   "cell_type": "markdown",
   "metadata": {
    "Collapsed": "false"
   },
   "source": [
    "## Initialization scripts"
   ]
  },
  {
   "cell_type": "code",
   "execution_count": 35,
   "metadata": {
    "Collapsed": "false"
   },
   "outputs": [],
   "source": [
    "import os\n",
    "\n",
    "from pathlib import Path"
   ]
  },
  {
   "cell_type": "code",
   "execution_count": 36,
   "metadata": {
    "Collapsed": "false"
   },
   "outputs": [
    {
     "name": "stdout",
     "output_type": "stream",
     "text": [
      "160951647621.dkr.ecr.us-east-1.amazonaws.com/dask_processing:latest\n"
     ]
    }
   ],
   "source": [
    "import boto3\n",
    "\n",
    "account_id = boto3.client('sts').get_caller_identity().get('Account')\n",
    "region = boto3.session.Session().region_name\n",
    "\n",
    "ecr_repository = 'dask_processing'\n",
    "tag = 'latest'\n",
    "URI_SUFFIX = 'amazonaws.com'\n",
    "dask_repository_uri = f'{account_id}.dkr.ecr.{region}.{URI_SUFFIX}/{ecr_repository}:{tag}'\n",
    "print(dask_repository_uri)\n",
    "root_path = Path('/home/ec2-user/SageMaker/defect_detection/')\n",
    "code_path = root_path / \"notebooks/WM-811K/src/\"\n",
    "code_path.mkdir(exist_ok=True)\n",
    "data_path = root_path / \"data/MIR-WM811K/\""
   ]
  },
  {
   "cell_type": "code",
   "execution_count": 37,
   "metadata": {
    "Collapsed": "false"
   },
   "outputs": [],
   "source": [
    "root_path = Path('/home/ec2-user/SageMaker/defect_detection/')#.resolve()\n",
    "\n",
    "code_path = root_path / \"notebooks/WM-811K/src/\"\n",
    "code_path.mkdir(exist_ok=True)\n",
    "data_path = root_path / \"data/MIR-WM811K/\""
   ]
  },
  {
   "cell_type": "markdown",
   "metadata": {
    "Collapsed": "true"
   },
   "source": [
    "## Creating SageMaker Processing Job"
   ]
  },
  {
   "cell_type": "markdown",
   "metadata": {
    "Collapsed": "true"
   },
   "source": [
    "### Build a Container for Dask Processing\n",
    "\n",
    "Create a container for processing with Dask. The code below is based on [this example](https://github.com/aws/amazon-sagemaker-examples/blob/master/sagemaker_processing/feature_transformation_with_sagemaker_processing_dask/feature_transformation_with_sagemaker_processing_dask.ipynb)."
   ]
  },
  {
   "cell_type": "markdown",
   "metadata": {
    "Collapsed": "true"
   },
   "source": [
    "#### Docker Build"
   ]
  },
  {
   "cell_type": "code",
   "execution_count": null,
   "metadata": {
    "Collapsed": "false"
   },
   "outputs": [],
   "source": [
    "%%sh \n",
    "pushd src/data_processing\n",
    "docker build -t  wafer-data-processing .\n",
    "popd"
   ]
  },
  {
   "cell_type": "markdown",
   "metadata": {
    "Collapsed": "false"
   },
   "source": [
    "#### Push to ECR"
   ]
  },
  {
   "cell_type": "code",
   "execution_count": null,
   "metadata": {
    "Collapsed": "false"
   },
   "outputs": [],
   "source": [
    "# Create ECR repository and push docker image\n",
    "\n",
    "!$(aws ecr get-login --region $region --registry-ids $account_id --no-include-email)\n",
    "!aws ecr create-repository --repository-name $ecr_repository\n",
    "!docker tag {ecr_repository + tag} $dask_repository_uri\n",
    "!docker push $dask_repository_uri"
   ]
  },
  {
   "cell_type": "markdown",
   "metadata": {
    "Collapsed": "false"
   },
   "source": [
    "### Create Script"
   ]
  },
  {
   "cell_type": "markdown",
   "metadata": {
    "Collapsed": "false"
   },
   "source": [
    "The script has been prepared on an editor, and can be found at `notebooks/WM-811K/src/data_processing.py`. It's made from parts of the original notebook, with imports resolved and a bit of refactoring for code clarity."
   ]
  },
  {
   "cell_type": "code",
   "execution_count": null,
   "metadata": {
    "Collapsed": "false"
   },
   "outputs": [],
   "source": [
    "!pygmentize ~/SageMaker/defect_detection/notebooks/WM-811K/src/data_processing.py"
   ]
  },
  {
   "cell_type": "markdown",
   "metadata": {
    "Collapsed": "false"
   },
   "source": [
    "## Run the Processing Job"
   ]
  },
  {
   "cell_type": "markdown",
   "metadata": {
    "Collapsed": "false"
   },
   "source": [
    "### Set up the Script Processor\n",
    "\n",
    "We are using a Dask image for this. It takes the URI of the container image and the script we want to run."
   ]
  },
  {
   "cell_type": "code",
   "execution_count": 44,
   "metadata": {
    "Collapsed": "false"
   },
   "outputs": [],
   "source": [
    "import boto3\n",
    "import sagemaker\n",
    "from sagemaker import get_execution_role\n",
    "from sagemaker.processing import ScriptProcessor, ProcessingInput, ProcessingOutput\n",
    "\n",
    "region = boto3.session.Session().region_name\n",
    "\n",
    "role = get_execution_role()\n",
    "\n",
    "dask_processor = ScriptProcessor(\n",
    "    base_job_name=\"wafer-data-processing\",\n",
    "    image_uri=dask_repository_uri,\n",
    "    command=[\"/opt/program/bootstrap.py\"],\n",
    "    volume_size_in_gb=5,\n",
    "    role=role,\n",
    "    instance_count=4,\n",
    "    instance_type=\"local\",\n",
    "    max_runtime_in_seconds=60*20,\n",
    ")"
   ]
  },
  {
   "cell_type": "markdown",
   "metadata": {
    "Collapsed": "false"
   },
   "source": [
    "### Run"
   ]
  },
  {
   "cell_type": "code",
   "execution_count": 45,
   "metadata": {
    "Collapsed": "false"
   },
   "outputs": [
    {
     "name": "stdout",
     "output_type": "stream",
     "text": [
      "\n",
      "Job Name:  wafer-data-processing-2020-10-05-17-19-53-082\n",
      "Inputs:  [{'InputName': 'input-1', 'S3Input': {'S3Uri': 's3://sagemaker-us-east-1-160951647621/wafer-input/wafers.pkl.gz', 'LocalPath': '/opt/ml/processing/input', 'S3DataType': 'S3Prefix', 'S3InputMode': 'File', 'S3DataDistributionType': 'FullyReplicated', 'S3CompressionType': 'None'}}, {'InputName': 'code', 'S3Input': {'S3Uri': 's3://sagemaker-us-east-1-160951647621/wafer-data-processing-2020-10-05-17-19-53-082/input/code/data_processing.py', 'LocalPath': '/opt/ml/processing/input/code', 'S3DataType': 'S3Prefix', 'S3InputMode': 'File', 'S3DataDistributionType': 'FullyReplicated', 'S3CompressionType': 'None'}}]\n",
      "Outputs:  [{'OutputName': 'autoencoder/train', 'S3Output': {'S3Uri': 's3://sagemaker-us-east-1-160951647621/wafer-data-processing-2020-10-05-17-19-53-082/output/autoencoder/train', 'LocalPath': '/opt/ml/processing/train', 'S3UploadMode': 'EndOfJob'}}]\n",
      "Creating cdlmfizh2k-algo-4-k9y25 ... \n",
      "Creating jpa7ytyrhc-algo-2-k9y25 ... \n",
      "Creating feydhk2zuy-algo-3-k9y25 ... \n",
      "Creating zrhvgubtog-algo-1-k9y25 ... \n",
      "\u001b[2BAttaching to cdlmfizh2k-algo-4-k9y25, zrhvgubtog-algo-1-k9y25, jpa7ytyrhc-algo-2-k9y25, feydhk2zuy-algo-3-k9y25\n",
      "\u001b[35mzrhvgubtog-algo-1-k9y25 |\u001b[0m distributed.nanny - INFO -         Start Nanny at: 'tcp://172.18.0.4:46235'\n",
      "\u001b[35mzrhvgubtog-algo-1-k9y25 |\u001b[0m distributed.scheduler - INFO - -----------------------------------------------\n",
      "\u001b[36mcdlmfizh2k-algo-4-k9y25 |\u001b[0m distributed.nanny - INFO -         Start Nanny at: 'tcp://172.18.0.2:38181'\n",
      "\u001b[35mzrhvgubtog-algo-1-k9y25 |\u001b[0m distributed.http.proxy - INFO - To route to workers diagnostics web server please install jupyter-server-proxy: python -m pip install jupyter-server-proxy\n",
      "\u001b[33mfeydhk2zuy-algo-3-k9y25 |\u001b[0m distributed.nanny - INFO -         Start Nanny at: 'tcp://172.18.0.3:34957'\n",
      "\u001b[32mjpa7ytyrhc-algo-2-k9y25 |\u001b[0m distributed.nanny - INFO -         Start Nanny at: 'tcp://172.18.0.5:39405'\n",
      "\u001b[35mzrhvgubtog-algo-1-k9y25 |\u001b[0m distributed.scheduler - INFO - -----------------------------------------------\n",
      "\u001b[35mzrhvgubtog-algo-1-k9y25 |\u001b[0m distributed.scheduler - INFO - Clear task state\n",
      "\u001b[35mzrhvgubtog-algo-1-k9y25 |\u001b[0m distributed.scheduler - INFO -   Scheduler at:     tcp://172.18.0.4:8786\n",
      "\u001b[35mzrhvgubtog-algo-1-k9y25 |\u001b[0m distributed.scheduler - INFO -   dashboard at:                     :8787\n",
      "\u001b[35mzrhvgubtog-algo-1-k9y25 |\u001b[0m distributed.worker - INFO -       Start worker at:     tcp://172.18.0.4:44269\n",
      "\u001b[35mzrhvgubtog-algo-1-k9y25 |\u001b[0m distributed.worker - INFO -          Listening to:     tcp://172.18.0.4:44269\n",
      "\u001b[35mzrhvgubtog-algo-1-k9y25 |\u001b[0m distributed.worker - INFO -          dashboard at:           172.18.0.4:45909\n",
      "\u001b[35mzrhvgubtog-algo-1-k9y25 |\u001b[0m distributed.worker - INFO - Waiting to connect to:      tcp://172.18.0.4:8786\n",
      "\u001b[35mzrhvgubtog-algo-1-k9y25 |\u001b[0m distributed.worker - INFO - -------------------------------------------------\n",
      "\u001b[35mzrhvgubtog-algo-1-k9y25 |\u001b[0m distributed.worker - INFO -               Threads:                          8\n",
      "\u001b[35mzrhvgubtog-algo-1-k9y25 |\u001b[0m distributed.worker - INFO -                Memory:                   64.38 GB\n",
      "\u001b[35mzrhvgubtog-algo-1-k9y25 |\u001b[0m distributed.worker - INFO -       Local Directory: /dask-worker-space/worker-tgshg9c6\n",
      "\u001b[35mzrhvgubtog-algo-1-k9y25 |\u001b[0m distributed.worker - INFO - -------------------------------------------------\n",
      "\u001b[35mzrhvgubtog-algo-1-k9y25 |\u001b[0m distributed.scheduler - INFO - Register worker <Worker 'tcp://172.18.0.4:44269', name: tcp://172.18.0.4:44269, memory: 0, processing: 0>\n",
      "\u001b[35mzrhvgubtog-algo-1-k9y25 |\u001b[0m distributed.scheduler - INFO - Starting worker compute stream, tcp://172.18.0.4:44269\n",
      "\u001b[35mzrhvgubtog-algo-1-k9y25 |\u001b[0m distributed.core - INFO - Starting established connection\n",
      "\u001b[35mzrhvgubtog-algo-1-k9y25 |\u001b[0m distributed.worker - INFO -         Registered to:      tcp://172.18.0.4:8786\n",
      "\u001b[35mzrhvgubtog-algo-1-k9y25 |\u001b[0m distributed.worker - INFO - -------------------------------------------------\n",
      "\u001b[35mzrhvgubtog-algo-1-k9y25 |\u001b[0m distributed.core - INFO - Starting established connection\n",
      "\u001b[36mcdlmfizh2k-algo-4-k9y25 |\u001b[0m distributed.worker - INFO -       Start worker at:     tcp://172.18.0.2:42519\n",
      "\u001b[36mcdlmfizh2k-algo-4-k9y25 |\u001b[0m distributed.worker - INFO -          Listening to:     tcp://172.18.0.2:42519\n",
      "\u001b[36mcdlmfizh2k-algo-4-k9y25 |\u001b[0m distributed.worker - INFO -          dashboard at:           172.18.0.2:32887\n",
      "\u001b[36mcdlmfizh2k-algo-4-k9y25 |\u001b[0m distributed.worker - INFO - Waiting to connect to:      tcp://172.18.0.4:8786\n",
      "\u001b[36mcdlmfizh2k-algo-4-k9y25 |\u001b[0m distributed.worker - INFO - -------------------------------------------------\n",
      "\u001b[36mcdlmfizh2k-algo-4-k9y25 |\u001b[0m distributed.worker - INFO -               Threads:                          8\n",
      "\u001b[36mcdlmfizh2k-algo-4-k9y25 |\u001b[0m distributed.worker - INFO -                Memory:                   64.38 GB\n",
      "\u001b[36mcdlmfizh2k-algo-4-k9y25 |\u001b[0m distributed.worker - INFO -       Local Directory: /dask-worker-space/worker-38u60_qj\n",
      "\u001b[36mcdlmfizh2k-algo-4-k9y25 |\u001b[0m distributed.worker - INFO - -------------------------------------------------\n",
      "\u001b[35mzrhvgubtog-algo-1-k9y25 |\u001b[0m distributed.scheduler - INFO - Register worker <Worker 'tcp://172.18.0.2:42519', name: tcp://172.18.0.2:42519, memory: 0, processing: 0>\n",
      "\u001b[36mcdlmfizh2k-algo-4-k9y25 |\u001b[0m distributed.worker - INFO -         Registered to:      tcp://172.18.0.4:8786\n",
      "\u001b[36mcdlmfizh2k-algo-4-k9y25 |\u001b[0m distributed.worker - INFO - -------------------------------------------------\n",
      "\u001b[35mzrhvgubtog-algo-1-k9y25 |\u001b[0m distributed.scheduler - INFO - Starting worker compute stream, tcp://172.18.0.2:42519\n",
      "\u001b[35mzrhvgubtog-algo-1-k9y25 |\u001b[0m distributed.core - INFO - Starting established connection\n",
      "\u001b[36mcdlmfizh2k-algo-4-k9y25 |\u001b[0m distributed.core - INFO - Starting established connection\n",
      "\u001b[33mfeydhk2zuy-algo-3-k9y25 |\u001b[0m distributed.worker - INFO -       Start worker at:     tcp://172.18.0.3:43093\n",
      "\u001b[33mfeydhk2zuy-algo-3-k9y25 |\u001b[0m distributed.worker - INFO -          Listening to:     tcp://172.18.0.3:43093\n",
      "\u001b[33mfeydhk2zuy-algo-3-k9y25 |\u001b[0m distributed.worker - INFO -          dashboard at:           172.18.0.3:43481\n",
      "\u001b[33mfeydhk2zuy-algo-3-k9y25 |\u001b[0m distributed.worker - INFO - Waiting to connect to:      tcp://172.18.0.4:8786\n",
      "\u001b[33mfeydhk2zuy-algo-3-k9y25 |\u001b[0m distributed.worker - INFO - -------------------------------------------------\n",
      "\u001b[33mfeydhk2zuy-algo-3-k9y25 |\u001b[0m distributed.worker - INFO -               Threads:                          8\n",
      "\u001b[33mfeydhk2zuy-algo-3-k9y25 |\u001b[0m distributed.worker - INFO -                Memory:                   64.38 GB\n",
      "\u001b[33mfeydhk2zuy-algo-3-k9y25 |\u001b[0m distributed.worker - INFO -       Local Directory: /dask-worker-space/worker-62y1kxxy\n",
      "\u001b[33mfeydhk2zuy-algo-3-k9y25 |\u001b[0m distributed.worker - INFO - -------------------------------------------------\n",
      "\u001b[35mzrhvgubtog-algo-1-k9y25 |\u001b[0m distributed.scheduler - INFO - Register worker <Worker 'tcp://172.18.0.3:43093', name: tcp://172.18.0.3:43093, memory: 0, processing: 0>\n",
      "\u001b[35mzrhvgubtog-algo-1-k9y25 |\u001b[0m distributed.scheduler - INFO - Starting worker compute stream, tcp://172.18.0.3:43093\n",
      "\u001b[35mzrhvgubtog-algo-1-k9y25 |\u001b[0m distributed.core - INFO - Starting established connection\n",
      "\u001b[33mfeydhk2zuy-algo-3-k9y25 |\u001b[0m distributed.worker - INFO -         Registered to:      tcp://172.18.0.4:8786\n",
      "\u001b[33mfeydhk2zuy-algo-3-k9y25 |\u001b[0m distributed.worker - INFO - -------------------------------------------------\n",
      "\u001b[33mfeydhk2zuy-algo-3-k9y25 |\u001b[0m distributed.core - INFO - Starting established connection\n",
      "\u001b[32mjpa7ytyrhc-algo-2-k9y25 |\u001b[0m distributed.worker - INFO -       Start worker at:     tcp://172.18.0.5:34101\n",
      "\u001b[32mjpa7ytyrhc-algo-2-k9y25 |\u001b[0m distributed.worker - INFO -          Listening to:     tcp://172.18.0.5:34101\n",
      "\u001b[32mjpa7ytyrhc-algo-2-k9y25 |\u001b[0m distributed.worker - INFO -          dashboard at:           172.18.0.5:38677\n",
      "\u001b[32mjpa7ytyrhc-algo-2-k9y25 |\u001b[0m distributed.worker - INFO - Waiting to connect to:      tcp://172.18.0.4:8786\n",
      "\u001b[32mjpa7ytyrhc-algo-2-k9y25 |\u001b[0m distributed.worker - INFO - -------------------------------------------------\n",
      "\u001b[32mjpa7ytyrhc-algo-2-k9y25 |\u001b[0m distributed.worker - INFO -               Threads:                          8\n",
      "\u001b[32mjpa7ytyrhc-algo-2-k9y25 |\u001b[0m distributed.worker - INFO -                Memory:                   64.38 GB\n",
      "\u001b[32mjpa7ytyrhc-algo-2-k9y25 |\u001b[0m distributed.worker - INFO -       Local Directory: /dask-worker-space/worker-u3m08g6m\n",
      "\u001b[32mjpa7ytyrhc-algo-2-k9y25 |\u001b[0m distributed.worker - INFO - -------------------------------------------------\n",
      "\u001b[35mzrhvgubtog-algo-1-k9y25 |\u001b[0m distributed.scheduler - INFO - Register worker <Worker 'tcp://172.18.0.5:34101', name: tcp://172.18.0.5:34101, memory: 0, processing: 0>\n",
      "\u001b[32mjpa7ytyrhc-algo-2-k9y25 |\u001b[0m distributed.worker - INFO -         Registered to:      tcp://172.18.0.4:8786\n",
      "\u001b[32mjpa7ytyrhc-algo-2-k9y25 |\u001b[0m distributed.worker - INFO - -------------------------------------------------\n",
      "\u001b[35mzrhvgubtog-algo-1-k9y25 |\u001b[0m distributed.scheduler - INFO - Starting worker compute stream, tcp://172.18.0.5:34101\n",
      "\u001b[35mzrhvgubtog-algo-1-k9y25 |\u001b[0m distributed.core - INFO - Starting established connection\n",
      "\u001b[32mjpa7ytyrhc-algo-2-k9y25 |\u001b[0m distributed.core - INFO - Starting established connection\n",
      "\u001b[35mzrhvgubtog-algo-1-k9y25 |\u001b[0m INFO:root:python version 3.8.0 (default, Oct 24 2019, 15:04:43) \n",
      "\u001b[35mzrhvgubtog-algo-1-k9y25 |\u001b[0m [GCC 7.3.0]\n",
      "\u001b[35mzrhvgubtog-algo-1-k9y25 |\u001b[0m distributed.scheduler - INFO - Receive client connection: Client-056c2ddb-072f-11eb-802c-0242ac120004\n",
      "\u001b[35mzrhvgubtog-algo-1-k9y25 |\u001b[0m distributed.core - INFO - Starting established connection\n",
      "\u001b[35mzrhvgubtog-algo-1-k9y25 |\u001b[0m INFO:root:Printing cluster information: <Client: 'tcp://172.18.0.4:8786' processes=4 threads=32, memory=257.53 GB>\n",
      "\u001b[35mzrhvgubtog-algo-1-k9y25 |\u001b[0m INFO:root:Loading data\n",
      "\u001b[35mzrhvgubtog-algo-1-k9y25 |\u001b[0m INFO:root:Cleaning data\n",
      "\u001b[35mzrhvgubtog-algo-1-k9y25 |\u001b[0m INFO:root:Calculating x and y\n",
      "\u001b[35mzrhvgubtog-algo-1-k9y25 |\u001b[0m INFO:root:Calculating labels and their distribution\n",
      "\u001b[35mzrhvgubtog-algo-1-k9y25 |\u001b[0m INFO:root:Labels with their inverse frequency: {'Center': 0.010594450500847985, 'Edge-Loc': 0.01251079963556019, 'Edge-Ring': 0.0077834801026358015, 'Loc': 0.013418523268424182, 'Near-full': 0.2658544922556541, 'Random': 0.030167885646031668, 'Scratch': 0.051559659104126854, 'none': 0.0004432986166526461, 'Donut': 0.6076674108700665}\n",
      "\u001b[35mzrhvgubtog-algo-1-k9y25 |\u001b[0m INFO:root:x: (22894, 26, 26, 3)\n",
      "\u001b[35mzrhvgubtog-algo-1-k9y25 |\u001b[0m INFO:root:y: (22894,)\n",
      "\u001b[35mzrhvgubtog-algo-1-k9y25 |\u001b[0m INFO:root:Label classes: {'Center': 0, 'Edge-Loc': 1, 'Edge-Ring': 2, 'Loc': 3, 'Near-full': 4, 'Random': 5, 'Scratch': 6, 'none': 7, 'Donut': 8}\n",
      "\u001b[35mzrhvgubtog-algo-1-k9y25 |\u001b[0m INFO:root:Data saved to /opt/ml/processing/train/data.npz\n",
      "\u001b[35mzrhvgubtog-algo-1-k9y25 |\u001b[0m distributed.scheduler - INFO - Remove client Client-056c2ddb-072f-11eb-802c-0242ac120004\n",
      "\u001b[35mzrhvgubtog-algo-1-k9y25 |\u001b[0m distributed.scheduler - INFO - Remove client Client-056c2ddb-072f-11eb-802c-0242ac120004\n",
      "\u001b[35mzrhvgubtog-algo-1-k9y25 |\u001b[0m distributed.scheduler - INFO - Close client connection: Client-056c2ddb-072f-11eb-802c-0242ac120004\n",
      "\u001b[33mfeydhk2zuy-algo-3-k9y25 |\u001b[0m distributed.worker - INFO - Connection to scheduler broken.  Reconnecting...\n",
      "\u001b[32mjpa7ytyrhc-algo-2-k9y25 |\u001b[0m distributed.worker - INFO - Connection to scheduler broken.  Reconnecting...\n",
      "\u001b[36mcdlmfizh2k-algo-4-k9y25 |\u001b[0m distributed.worker - INFO - Connection to scheduler broken.  Reconnecting...\n",
      "\u001b[35mzrhvgubtog-algo-1-k9y25 exited with code 0\n",
      "\u001b[0mStopping jpa7ytyrhc-algo-2-k9y25 ... \n",
      "Stopping feydhk2zuy-algo-3-k9y25 ... \n",
      "Stopping cdlmfizh2k-algo-4-k9y25 ... \n",
      "\u001b[1BAborting on container exit...... \u001b[32mdone\u001b[0m\n",
      "===== Job Complete =====\n",
      "."
     ]
    }
   ],
   "source": [
    "dask_processor.run(\n",
    "    code=str(code_path / 'data_processing.py'),\n",
    "    inputs=[ProcessingInput(\n",
    "        source=\"s3://sagemaker-us-east-1-160951647621/wafer-input/wafers.pkl.gz\",\n",
    "        destination='/opt/ml/processing/input'\n",
    "    )],\n",
    "    outputs=[ProcessingOutput(output_name='autoencoder/train', source='/opt/ml/processing/train')]\n",
    ")"
   ]
  },
  {
   "cell_type": "code",
   "execution_count": 46,
   "metadata": {
    "Collapsed": "false"
   },
   "outputs": [],
   "source": [
    "processed_data = dask_processor.latest_job.describe()['ProcessingOutputConfig']['Outputs'][0]['S3Output']['S3Uri']"
   ]
  },
  {
   "cell_type": "code",
   "execution_count": 47,
   "metadata": {
    "Collapsed": "false"
   },
   "outputs": [
    {
     "name": "stdout",
     "output_type": "stream",
     "text": [
      "sagemaker-us-east-1-160951647621 wafer-data-processing-2020-10-05-17-19-53-082/output/autoencoder/train\n"
     ]
    }
   ],
   "source": [
    "bucket, *path = processed_data.split(\"/\")[2:]\n",
    "path = \"/\".join(path)\n",
    "print(bucket, path)"
   ]
  },
  {
   "cell_type": "code",
   "execution_count": 48,
   "metadata": {
    "Collapsed": "false"
   },
   "outputs": [],
   "source": [
    "sagemaker.utils.download_file(bucket, path + \"/data.npz\", \"/tmp/data.npz\", sagemaker.session.Session())"
   ]
  },
  {
   "cell_type": "code",
   "execution_count": 49,
   "metadata": {
    "Collapsed": "false"
   },
   "outputs": [],
   "source": [
    "import numpy as np\n",
    "\n",
    "with np.load(\"/tmp/data.npz\", allow_pickle=True) as data:\n",
    "    x = data['x']\n",
    "    y = data['y']\n",
    "    label_classes = data['label_classes'].item(0)"
   ]
  },
  {
   "cell_type": "code",
   "execution_count": 50,
   "metadata": {
    "Collapsed": "false"
   },
   "outputs": [
    {
     "name": "stdout",
     "output_type": "stream",
     "text": [
      "(22894, 26, 26, 3) (22894,) {'Center': 0, 'Edge-Loc': 1, 'Edge-Ring': 2, 'Loc': 3, 'Near-full': 4, 'Random': 5, 'Scratch': 6, 'none': 7, 'Donut': 8}\n"
     ]
    }
   ],
   "source": [
    "print(x.shape, y.shape, label_classes)"
   ]
  }
 ],
 "metadata": {
  "kernelspec": {
   "display_name": "conda_python3",
   "language": "python",
   "name": "conda_python3"
  },
  "language_info": {
   "codemirror_mode": {
    "name": "ipython",
    "version": 3
   },
   "file_extension": ".py",
   "mimetype": "text/x-python",
   "name": "python",
   "nbconvert_exporter": "python",
   "pygments_lexer": "ipython3",
   "version": "3.6.10"
  },
  "widgets": {
   "application/vnd.jupyter.widget-state+json": {
    "state": {},
    "version_major": 2,
    "version_minor": 0
   }
  }
 },
 "nbformat": 4,
 "nbformat_minor": 4
}
